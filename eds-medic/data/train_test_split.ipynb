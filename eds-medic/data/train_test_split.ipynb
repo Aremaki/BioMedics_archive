{
 "cells": [
  {
   "cell_type": "code",
   "execution_count": null,
   "id": "7a406c53-6b90-4e33-9224-33379a06acb3",
   "metadata": {
    "tags": []
   },
   "outputs": [],
   "source": [
    "%load_ext autoreload\n",
    "%autoreload 2"
   ]
  },
  {
   "cell_type": "code",
   "execution_count": null,
   "id": "0436220e-cd6e-4cb5-b4a7-7beba0b13114",
   "metadata": {
    "tags": []
   },
   "outputs": [],
   "source": [
    "import spacy\n",
    "import edsnlp\n",
    "import edsnlp.connectors as c\n",
    "import pandas"
   ]
  },
  {
   "cell_type": "code",
   "execution_count": null,
   "id": "19542c90-dd1f-44f0-bfba-551ec5ff0fce",
   "metadata": {
    "tags": []
   },
   "outputs": [],
   "source": [
    "import spacy"
   ]
  },
  {
   "cell_type": "code",
   "execution_count": null,
   "id": "534bd304-affa-4c46-99d9-d66823e925a3",
   "metadata": {
    "tags": []
   },
   "outputs": [],
   "source": [
    "import os\n",
    "os.getcwd()"
   ]
  },
  {
   "cell_type": "code",
   "execution_count": null,
   "id": "34a35342-56fc-4afc-a365-abcafead6609",
   "metadata": {
    "tags": []
   },
   "outputs": [],
   "source": [
    "###################################################################\n",
    "############## UPDATE THE ATTRIBUTES THAT CONTAINS NOTHING ########\n",
    "###################################################################\n",
    "\n",
    "import os\n",
    "\n",
    "directory = \"NLP_diabeto_annotated/clean\"  # Replace with the actual directory path\n",
    "n = 0\n",
    "for filename in os.listdir(directory):\n",
    "    if filename.endswith('.ann'):\n",
    "        file_path = os.path.join(directory, filename)\n",
    "        with open(file_path, 'r+') as file:\n",
    "            lines = file.readlines()\n",
    "            file.seek(0)\n",
    "            for line in lines:\n",
    "                if line.startswith('A') and any(keyword in line for keyword in ['Negation']):\n",
    "                    line = line.rstrip() + ' neg\\n'\n",
    "                    n+=1\n",
    "                elif line.startswith('A') and any(keyword in line for keyword in ['Allergie']):\n",
    "                    line = line.rstrip() + ' is_allergie\\n'\n",
    "                    n+=1\n",
    "                elif line.startswith('A') and any(keyword in line for keyword in ['Family']):\n",
    "                    line = line.rstrip() + ' is_family\\n'\n",
    "                    n+=1\n",
    "                    \n",
    "                file.write(line)\n",
    "            file.truncate()\n",
    "print(n,' Attribute updated')"
   ]
  },
  {
   "cell_type": "code",
   "execution_count": null,
   "id": "5a9bdd5b-846f-4d33-b34a-e01e38f73ca6",
   "metadata": {
    "tags": []
   },
   "outputs": [],
   "source": [
    "import os \n",
    "os.getcwd()"
   ]
  },
  {
   "cell_type": "code",
   "execution_count": null,
   "id": "467e46f7-0dff-455a-ac29-c9a07f30007a",
   "metadata": {
    "tags": []
   },
   "outputs": [],
   "source": [
    "####################################\n",
    "# TURN THE ATRIBUTES TECH INTO ENT #\n",
    "####################################\n",
    "\n",
    "import re\n",
    "import os\n",
    "\n",
    "PATH = 'NLP_diabeto_annotated/clean'\n",
    "pattern = 'T(\\d+)'\n",
    "n = 0\n",
    "for filename in os.listdir(PATH):\n",
    "    if filename.endswith(\".ann\"):\n",
    "        # Read in the file contents\n",
    "        with open(os.path.join(PATH, filename), 'r') as f:\n",
    "            lines = f.readlines()\n",
    "        to_del = []\n",
    "        for i in range(1,len(lines)):\n",
    "            current_line = lines[i]\n",
    "            previous_line = lines[i-1]\n",
    "\n",
    "            #if current line start with A and contain the word \"Tech\"\n",
    "            if current_line.startswith('A') and 'Tech' in current_line:\n",
    "                if previous_line.startswith('T'):\n",
    "                    ent_id = re.findall(pattern, previous_line)[0]\n",
    "                    if ent_id in current_line:\n",
    "                        #the Chemical_and_drugs string is in the previous line is replaced by the last word of the current line\n",
    "                        lines[i-1] = lines[i-1].replace('Chemical_and_drugs', current_line.split()[-1])\n",
    "                        #the current line is deleted\n",
    "                        to_del.append(i)\n",
    "                        n += 1\n",
    "\n",
    "        # Delete the lines\n",
    "        for i in sorted(to_del, reverse=True):\n",
    "            del lines[i]\n",
    "        # Write the new contents to the file\n",
    "        with open(os.path.join(PATH, filename), 'w') as f:\n",
    "            f.writelines(lines) \n",
    "                        \n",
    "print(n,' Attribute updated')\n",
    "                        "
   ]
  },
  {
   "cell_type": "code",
   "execution_count": null,
   "id": "624dd866-6346-4875-8d75-e4db9a7152e2",
   "metadata": {
    "tags": []
   },
   "outputs": [],
   "source": [
    "#INPUT PATH\n",
    "PATH = 'NLP_diabeto_annotated/clean'\n",
    "\n",
    "#OUTPUT PATH\n",
    "PATH_train = 'NLP_diabeto_annotated/train'\n",
    "PATH_test = 'NLP_diabeto_annotated/test'\n",
    "PATH_val = 'NLP_diabeto_annotated/val'\n",
    "\n",
    "treshold = 0.8\n",
    "\n",
    "brat = c.BratConnector(PATH, attributes = {\"Action\":\"action\",'Certainty':'certainty','Temporality':'temporality',\n",
    "                                             'Negation':'negation','Allergie':'allergie','Family':'family'})\n",
    "empty = spacy.blank(\"fr\")\n",
    "df = brat.brat2docs(empty)\n",
    "\n",
    "# TRAIN = df[:int(len(df)*0.8)]\n",
    "# TEST = df[int(len(df)*0.8): int(len(df)*0.9)]\n",
    "# VAL = df[int(len(df)*0.9):]\n",
    "\n",
    "\n",
    "import numpy as np\n",
    "import random\n",
    "from collections import Counter\n",
    "\n",
    "draw = 100\n",
    "attributes = ['action', 'certainty', 'temporality', 'negation', 'allergie', 'family']\n",
    "n = len(df)\n",
    "\n",
    "#total\n",
    "counter_tot = Counter(attr for doc in df for ent in doc.ents for attr in attributes if getattr(ent._,attr)) #Full distribution of the attributes\n",
    "\n",
    "# Index Sampling and counter calculation\n",
    "index_list = [random.sample(range(n), int(0.2*n)) for _ in range(draw)]\n",
    "half = int(0.5 * len(index_list[0]))\n",
    "test_indices = [indices[:half] for indices in index_list]\n",
    "val_indices = [indices[half:] for indices in index_list]\n",
    "train_indices = [list(set(range(n)) - set(indices)) for indices in index_list]\n",
    "\n",
    "counter = {attr: np.zeros(draw, dtype=int) for attr in attributes}\n",
    "for d, indices in enumerate(test_indices):\n",
    "    test = [df[i] for i in indices]\n",
    "    for doc in test:\n",
    "        for ent in doc.ents:\n",
    "            for attr in attributes:\n",
    "                if getattr(ent._, attr):\n",
    "                    counter[attr][d] += 1\n",
    "\n",
    "# Normalization\n",
    "for attr in attributes:\n",
    "    counter[attr] = np.round(counter[attr] / counter_tot[attr], 2)\n",
    "\n",
    "# Best Index\n",
    "totals = np.array([sum(counter[attr][d] for attr in attributes) for d in range(draw)])\n",
    "best_index = np.argmin(np.abs(0.2 * len(attributes) - totals)**2)\n",
    "\n",
    "\n",
    "#Dataset generation\n",
    "TEST = [df[i] for i in index_list[best_index][:int(0.5*len(index_list[best_index]))]]\n",
    "VAL = [df[i] for i in index_list[best_index][int(0.5*len(index_list[best_index])):]]\n",
    "TRAIN = [df[i] for i in range(n) if i not in index_list[best_index]]\n",
    "\n",
    "\n",
    "print('Train size : ', len(TRAIN))\n",
    "print('Test size : ', len(TEST))\n",
    "print('Val size : ', len(VAL))\n",
    "\n",
    "brat = c.BratConnector(PATH_train,attributes = {\"Action\":\"action\",'Certainty':'certainty','Temporality':'temporality',\n",
    "                                             'Negation':'negation','Allergie':'allergie','Family':'family'})\n",
    "brat.docs2brat(TRAIN)\n",
    "\n",
    "print('Train saved')\n",
    "\n",
    "brat = c.BratConnector(PATH_test,attributes = {\"Action\":\"action\",'Certainty':'certainty','Temporality':'temporality',\n",
    "                                             'Negation':'negation','Allergie':'allergie','Family':'family'})\n",
    "brat.docs2brat(TEST)\n",
    "\n",
    "print('Test saved')\n",
    "\n",
    "\n",
    "brat = c.BratConnector(PATH_val,attributes = {\"Action\":\"action\",'Certainty':'certainty','Temporality':'temporality',\n",
    "                                             'Negation':'negation','Allergie':'allergie','Family':'family'})\n",
    "brat.docs2brat(VAL)\n",
    "\n",
    "print('Val saved')"
   ]
  },
  {
   "cell_type": "code",
   "execution_count": null,
   "id": "dcbb2f7d-21d7-4dc8-9ad6-506d98802ce1",
   "metadata": {
    "tags": []
   },
   "outputs": [],
   "source": [
    "from collections import Counter\n",
    "labels = []\n",
    "attributes = ['action', 'certainty', 'temporality', 'negation', 'allergie', 'family']\n",
    "for doc in TEST:\n",
    "    for ent in doc.ents:\n",
    "        labels.append(ent.label_)\n",
    "        for attr in attributes:\n",
    "            if getattr(ent._,attr):\n",
    "                labels.append(attr)\n",
    "#we print the labels and their frequency\n",
    "Counter(labels)"
   ]
  },
  {
   "cell_type": "code",
   "execution_count": null,
   "id": "3fa41f07-a4bd-4581-9fa2-a897c01b67dd",
   "metadata": {
    "tags": []
   },
   "outputs": [],
   "source": [
    "PATH = 'attr/full'\n",
    "\n",
    "#OUTPUT PATH\n",
    "PATH_train = 'attr/train'\n",
    "PATH_test = 'attr/test'\n",
    "PATH_val = 'attr/val'\n",
    "\n",
    "treshold = 0.8\n",
    "\n",
    "brat = c.BratConnector(PATH, attributes = {\"Action\":\"action\",'Certainty':'certainty','Temporality':'temporality','Negation':'negation','Allergie':'allergie','Family':'family'})\n",
    "empty = spacy.blank(\"fr\")\n",
    "df = brat.brat2docs(empty)\n",
    "\n",
    "TRAIN = df[:int(len(df)*0.8)]\n",
    "TEST = df[int(len(df)*0.8): int(len(df)*0.9)]\n",
    "VAL = df[int(len(df)*0.9):]"
   ]
  },
  {
   "cell_type": "code",
   "execution_count": null,
   "id": "af1294a7-d258-4a4c-92da-65e5ffc2ee73",
   "metadata": {
    "tags": []
   },
   "outputs": [],
   "source": [
    "from collections import Counter\n",
    "import numpy\n",
    "import random\n",
    "\n",
    "\n",
    "\n",
    "draw = 500\n",
    "\n",
    "\n",
    "attributes = ['action', 'certainty', 'temporality', 'negation', 'allergie', 'family']\n",
    "\n",
    "counter_tot = {attr:0 for attr in attributes}\n",
    "\n",
    "#total\n",
    "for doc in df:\n",
    "    for ent in doc.ents:\n",
    "        for attr in attributes:\n",
    "            if getattr(ent._,attr):\n",
    "                 counter_tot[attr] += 1\n",
    "\n",
    "n = len(df)\n",
    "\n",
    "index_list = []\n",
    "counter = {attr:[0 for _ in range(draw)] for attr in attributes}\n",
    "\n",
    "for d in range(draw):\n",
    "\n",
    "    index = random.sample(range(n),int(0.2*n))\n",
    "    index_list.append(index)\n",
    "\n",
    "    test = [df[i] for i in index[:int(0.5*len(index))]]\n",
    "    val = [df[i] for i in index[int(0.5*len(index)):]]\n",
    "    train = [df[i] for i in range(n) if i not in index]\n",
    "    \n",
    "\n",
    "    for doc in test:\n",
    "        for ent in doc.ents:\n",
    "            for attr in attributes:\n",
    "                if getattr(ent._,attr):\n",
    "                     counter[attr][d] += 1\n",
    "\n",
    "\n",
    "\n",
    "\n",
    "for attr in attributes:\n",
    "    for d in range(draw):\n",
    "        counter[attr][d] = round(counter[attr][d] / counter_tot[attr],2)\n",
    "\n",
    "best = 0.0\n",
    "best_index = 0\n",
    "for d in range(draw):\n",
    "    tot = 0.0\n",
    "    for attr in attributes:\n",
    "        tot+=counter[attr][d]\n",
    "    if (0.2*len(attributes) - tot)**2 < (0.2*len(attributes) - best)**2:\n",
    "        best = tot\n",
    "        best_index = d\n",
    "\n",
    "index_list[best_index]"
   ]
  },
  {
   "cell_type": "code",
   "execution_count": null,
   "id": "fd353be8-d9db-4ebf-81aa-fa926b4eed8f",
   "metadata": {},
   "outputs": [],
   "source": [
    "import numpy as np\n",
    "import random\n",
    "from collections import Counter\n",
    "\n",
    "draw = 10\n",
    "attributes = ['action', 'certainty', 'temporality', 'negation', 'allergie', 'family']\n",
    "n = len(df)\n",
    "\n",
    "#total\n",
    "counter_tot = Counter(attr for doc in df for ent in doc.ents for attr in attributes if getattr(ent._,attr)) #Full distribution of the attributes\n",
    "\n",
    "# Index Sampling and counter calculation\n",
    "index_list = [random.sample(range(n), int(0.2*n)) for _ in range(draw)]\n",
    "half = int(0.5 * len(index_list[0]))\n",
    "test_indices = [indices[:half] for indices in index_list]\n",
    "val_indices = [indices[half:] for indices in index_list]\n",
    "train_indices = [list(set(range(n)) - set(indices)) for indices in index_list]\n",
    "\n",
    "counter = {attr: np.zeros(draw, dtype=int) for attr in attributes}\n",
    "for d, indices in enumerate(test_indices):\n",
    "    test = [df[i] for i in indices]\n",
    "    for doc in test:\n",
    "        for ent in doc.ents:\n",
    "            for attr in attributes:\n",
    "                if getattr(ent._, attr):\n",
    "                    counter[attr][d] += 1\n",
    "\n",
    "# Normalization\n",
    "for attr in attributes:\n",
    "    counter[attr] = np.round(counter[attr] / counter_tot[attr], 2)\n",
    "\n",
    "# Best Index\n",
    "totals = np.array([sum(counter[attr][d] for attr in attributes) for d in range(draw)])\n",
    "best_index = np.argmin(np.abs(0.2 * len(attributes) - totals)**2)"
   ]
  },
  {
   "cell_type": "code",
   "execution_count": null,
   "id": "c79999ae-bc89-43d0-a475-6bfd7cbcba12",
   "metadata": {
    "tags": []
   },
   "outputs": [],
   "source": [
    "best_index"
   ]
  },
  {
   "cell_type": "code",
   "execution_count": null,
   "id": "35a5fed7-9427-49ab-8f0c-5922beedeb2c",
   "metadata": {
    "tags": []
   },
   "outputs": [],
   "source": [
    "\n",
    "PATH_train = 'attr/train'\n",
    "PATH_test = 'attr/test'\n",
    "PATH_val = 'attr/val'\n",
    "\n",
    "treshold = 0.8\n",
    "\n",
    "brat = c.BratConnector(PATH_test, attributes = {\"Action\":\"action\",'Certainty':'certainty','Temporality':'temporality','Negation':'negation','Allergie':'allergie','Family':'family'})\n",
    "empty = spacy.blank(\"fr\")\n",
    "TEST = brat.brat2docs(empty)\n",
    "\n",
    "attributes = ['action', 'certainty', 'temporality', 'negation', 'allergie', 'family']\n",
    "\n",
    "counter_tot = {attr:0 for attr in attributes}\n",
    "\n",
    "a = Counter()\n",
    "for doc in TEST:\n",
    "    for ent in doc.ents:\n",
    "        for attr in attributes:\n",
    "            if getattr(ent._,attr):\n",
    "                \n",
    "                 a[getattr(ent._,attr)] += 1\n",
    "\n",
    "a"
   ]
  },
  {
   "cell_type": "code",
   "execution_count": null,
   "id": "13af885a-6f64-4a84-bd12-f46469d9c71e",
   "metadata": {},
   "outputs": [],
   "source": [
    "#INPUT PATH\n",
    "PATH = 'attr/full'\n",
    "\n",
    "#OUTPUT PATH\n",
    "PATH_train = 'attr/train'\n",
    "PATH_test = 'attr/test'\n",
    "PATH_val = 'attr/val'\n",
    "\n",
    "treshold = 0.8\n",
    "\n",
    "brat = c.BratConnector(PATH_test, attributes = {\"Action\":\"action\",'Certainty':'certainty','Temporality':'temporality',\n",
    "                                             'Negation':'negation','Allergie':'allergie','Family':'family'})\n",
    "empty = spacy.blank(\"fr\")\n",
    "df = brat.brat2docs(empty)\n",
    "\n",
    "\n",
    "\n",
    "for doc in df:\n",
    "    for ent in doc:\n",
    "        if ent._.action:\n",
    "            print('a')\n",
    "            print(ent,'--', ent._.action)"
   ]
  },
  {
   "cell_type": "code",
   "execution_count": null,
   "id": "644ac27b-11a9-40cb-b165-ee7111469de8",
   "metadata": {},
   "outputs": [],
   "source": [
    "brat = c.BratConnector('testtest/', attributes = {\"action\":\"action\",'certainty':'certainty','temporality':'temporality','negation':'negation','allergie':'allergie','family':'family'})\n",
    "\n",
    "brat.docs2brat(df)"
   ]
  },
  {
   "cell_type": "code",
   "execution_count": null,
   "id": "4e654171-05b8-4ee6-a479-81ac48c1e1d9",
   "metadata": {},
   "outputs": [],
   "source": [
    "for doc in df:\n",
    "    for ent in doc.ents:\n",
    "        if ent._.action:\n",
    "            print('ok')"
   ]
  },
  {
   "cell_type": "code",
   "execution_count": null,
   "id": "05af448d-4ddb-4c5e-a13a-a6a05991b743",
   "metadata": {},
   "outputs": [],
   "source": []
  }
 ],
 "metadata": {
  "kernelspec": {
   "display_name": "pierrenv",
   "language": "python",
   "name": "pierrenv"
  },
  "language_info": {
   "codemirror_mode": {
    "name": "ipython",
    "version": 3
   },
   "file_extension": ".py",
   "mimetype": "text/x-python",
   "name": "python",
   "nbconvert_exporter": "python",
   "pygments_lexer": "ipython3",
   "version": "3.7.16"
  }
 },
 "nbformat": 4,
 "nbformat_minor": 5
}
