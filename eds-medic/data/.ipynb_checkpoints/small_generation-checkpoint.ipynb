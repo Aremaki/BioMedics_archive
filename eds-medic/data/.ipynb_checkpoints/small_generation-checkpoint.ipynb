{
 "cells": [
  {
   "cell_type": "code",
   "execution_count": 10,
   "id": "cc085388-3ce8-41ed-be39-32110f2f0991",
   "metadata": {
    "tags": []
   },
   "outputs": [],
   "source": [
    "import os\n",
    "import re\n",
    "from pathlib import Path\n",
    "from typing import Any, Dict, Optional\n",
    "import matplotlib.pyplot as plt\n",
    "\n",
    "import numpy as np\n",
    "import pandas as pd\n",
    "import seaborn as sns\n",
    "import spacy\n",
    "import srsly\n",
    "import typer\n",
    "from collections import defaultdict\n",
    "from copy import deepcopy\n",
    "from spacy.cli._util import Arg, Opt, import_code, setup_gpu\n",
    "from spacy.cli.evaluate import (\n",
    "    print_prf_per_type,\n",
    "    print_textcats_auc_per_cat,\n",
    "    render_parses,\n",
    ")\n",
    "from spacy.scorer import Scorer\n",
    "from spacy.tokens import Doc\n",
    "from spacy.tokens import DocBin\n",
    "from spacy.training import Example\n",
    "from spacy import util\n",
    "from thinc.api import fix_random_seed\n",
    "from wasabi import Printer\n",
    "\n",
    "from eds_medic.corpus_reader import Corpus\n",
    "from edsnlp.connectors.brat import BratConnector\n"
   ]
  },
  {
   "cell_type": "code",
   "execution_count": 33,
   "id": "680406cc-fdca-47bb-9fe2-15d1b07f9ff9",
   "metadata": {
    "tags": []
   },
   "outputs": [
    {
     "name": "stderr",
     "output_type": "stream",
     "text": [
      "2023-05-04 15:22:25.905 | INFO     | edsnlp.connectors.brat:load_brat:333 - The BRAT directory contains 82 annotated documents.\n",
      "Annotation extraction: 100%|#######################################| 82/82 [00:00<00:00, 277.75it/s]\n",
      "spaCy conversion: 100%|#############################################| 82/82 [00:02<00:00, 30.40it/s]\n"
     ]
    }
   ],
   "source": [
    "Original_path = \"classif/data_train\"\n",
    "new_path = \"classif/data_train_small\"\n",
    "max_l = 1000\n",
    "\n",
    "loader = spacy.blank(\"fr\")\n",
    "brat = BratConnector(Original_path)\n",
    "df = brat.brat2docs(loader)"
   ]
  },
  {
   "cell_type": "code",
   "execution_count": 34,
   "id": "0a47466b-b0ec-4c45-a721-fb28ec0acf38",
   "metadata": {
    "tags": []
   },
   "outputs": [
    {
     "data": {
      "image/png": "[encoded data removed]",
      "text/plain": [
       "<Figure size 640x480 with 1 Axes>"
      ]
     },
     "metadata": {},
     "output_type": "display_data"
    }
   ],
   "source": [
    "tokens = [len(doc) for doc in df]\n",
    "plt.hist(tokens, bins=100)\n",
    "plt.show()"
   ]
  },
  {
   "cell_type": "code",
   "execution_count": 35,
   "id": "e29e73c6-1928-4d4b-85b8-b17917f4ee40",
   "metadata": {
    "tags": []
   },
   "outputs": [],
   "source": [
    "def split_doc(doc, max_size):\n",
    "    doc_name = doc._.note_id\n",
    "    docs = []\n",
    "    start = 0\n",
    "    end = max_size\n",
    "    c = 0\n",
    "    while start < len(doc):\n",
    "        c+=1\n",
    "        # Check if the current chunk goes beyond the end of the document\n",
    "        if end > len(doc):\n",
    "            end = len(doc)\n",
    "        # Create a new doc from the current chunk of tokens\n",
    "        chunk = doc[start:end]\n",
    "        new_doc = spacy.tokens.Doc(doc.vocab, words=[token.text for token in chunk])\n",
    "        new_doc._.note_id = f'{doc_name}_part{c}'\n",
    "\n",
    "        # Add the entities from the original doc to the new doc\n",
    "        for ent in doc.ents:\n",
    "            if ent.start >= start and ent.end <= end:\n",
    "                new_ent = spacy.tokens.Span(new_doc, ent.start-start, ent.end-start, label=ent.label_)\n",
    "                new_doc.ents = list(new_doc.ents) + [new_ent]\n",
    "        docs.append(new_doc)\n",
    "        # Move the start and end indices for the next chunk\n",
    "        start = end\n",
    "        end += max_size\n",
    "    return docs\n",
    "\n"
   ]
  },
  {
   "cell_type": "code",
   "execution_count": 39,
   "id": "0a38c2e7-c382-4070-a37b-062ba83f4fdf",
   "metadata": {
    "tags": []
   },
   "outputs": [],
   "source": [
    "short_doc = []\n",
    "for docs in df:\n",
    "    new_docs = split_doc(docs,max_l)\n",
    "    short_doc.append(new_docs)\n",
    "\n",
    "short_doc = sum(short_doc, [])"
   ]
  },
  {
   "cell_type": "code",
   "execution_count": 41,
   "id": "64068ee5-0300-4d78-9be5-798aae6a24cc",
   "metadata": {
    "tags": []
   },
   "outputs": [
    {
     "ename": "NameError",
     "evalue": "name 'df_txt' is not defined",
     "output_type": "error",
     "traceback": [
      "\u001b[0;31m---------------------------------------------------------------------------\u001b[0m",
      "\u001b[0;31mNameError\u001b[0m                                 Traceback (most recent call last)",
      "\u001b[0;32m/tmp/ipykernel_15676/2290447595.py\u001b[0m in \u001b[0;36m<module>\u001b[0;34m\u001b[0m\n\u001b[1;32m      1\u001b[0m \u001b[0mbrat\u001b[0m \u001b[0;34m=\u001b[0m \u001b[0mBratConnector\u001b[0m\u001b[0;34m(\u001b[0m\u001b[0mnew_path\u001b[0m\u001b[0;34m)\u001b[0m\u001b[0;34m\u001b[0m\u001b[0;34m\u001b[0m\u001b[0m\n\u001b[0;32m----> 2\u001b[0;31m \u001b[0mbrat\u001b[0m\u001b[0;34m.\u001b[0m\u001b[0mdocs2brat\u001b[0m\u001b[0;34m(\u001b[0m\u001b[0mdf_txt\u001b[0m\u001b[0;34m)\u001b[0m\u001b[0;34m\u001b[0m\u001b[0;34m\u001b[0m\u001b[0m\n\u001b[0m",
      "\u001b[0;31mNameError\u001b[0m: name 'df_txt' is not defined"
     ]
    }
   ],
   "source": [
    "brat = BratConnector(new_path)\n",
    "brat.docs2brat(short_doc)"
   ]
  },
  {
   "cell_type": "code",
   "execution_count": null,
   "id": "0ad2e68a-3cc4-4f97-b4c1-e3f7e4cd2ffc",
   "metadata": {},
   "outputs": [],
   "source": []
  }
 ],
 "metadata": {
  "kernelspec": {
   "display_name": "pierre",
   "language": "python",
   "name": "pierre"
  },
  "language_info": {
   "codemirror_mode": {
    "name": "ipython",
    "version": 3
   },
   "file_extension": ".py",
   "mimetype": "text/x-python",
   "name": "python",
   "nbconvert_exporter": "python",
   "pygments_lexer": "ipython3",
   "version": "3.7.16"
  }
 },
 "nbformat": 4,
 "nbformat_minor": 5
}
